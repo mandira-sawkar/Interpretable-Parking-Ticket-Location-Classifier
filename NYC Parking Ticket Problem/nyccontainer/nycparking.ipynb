{
 "cells": [
  {
   "cell_type": "code",
   "execution_count": 1,
   "id": "b56c3771-78d9-453d-9b89-6962be1fef77",
   "metadata": {},
   "outputs": [],
   "source": [
    "from pyspark.sql import SparkSession\n",
    "import pandas as pd\n",
    "import numpy as np\n",
    "from pyspark.sql.functions import col\n",
    "from pyspark.sql.functions import expr\n",
    "from pyspark.sql.functions import when, isnull\n",
    "\n",
    "from sklearn.model_selection import train_test_split\n",
    "from sklearn.ensemble import RandomForestClassifier"
   ]
  },
  {
   "cell_type": "code",
   "execution_count": 2,
   "id": "997bae48-66a9-4c3a-9ce1-5d0da9cabcf7",
   "metadata": {},
   "outputs": [
    {
     "name": "stdout",
     "output_type": "stream",
     "text": [
      "23/02/05 23:36:07 WARN Utils: Your hostname, DESKTOP-K4JEK0C resolves to a loopback address: 127.0.1.1; using 172.29.234.4 instead (on interface eth0)\n",
      "23/02/05 23:36:07 WARN Utils: Set SPARK_LOCAL_IP if you need to bind to another address\n"
     ]
    },
    {
     "name": "stderr",
     "output_type": "stream",
     "text": [
      "Setting default log level to \"WARN\".\n",
      "To adjust logging level use sc.setLogLevel(newLevel). For SparkR, use setLogLevel(newLevel).\n"
     ]
    },
    {
     "name": "stdout",
     "output_type": "stream",
     "text": [
      "23/02/05 23:36:09 WARN NativeCodeLoader: Unable to load native-hadoop library for your platform... using builtin-java classes where applicable\n",
      "23/02/05 23:36:10 WARN Utils: Service 'SparkUI' could not bind on port 4040. Attempting port 4041.\n",
      "23/02/05 23:36:10 WARN Utils: Service 'SparkUI' could not bind on port 4041. Attempting port 4042.\n",
      "23/02/05 23:36:10 WARN Utils: Service 'SparkUI' could not bind on port 4042. Attempting port 4043.\n",
      "23/02/05 23:36:10 WARN Utils: Service 'SparkUI' could not bind on port 4043. Attempting port 4044.\n"
     ]
    }
   ],
   "source": [
    "#Create SparkSession\",\n",
    "if 'spark' not in globals():\n",
    "    spark = SparkSession.builder.appName('nycparking').getOrCreate()\n",
    "else:\n",
    "    print(f'Spark {spark.version} is already initalized.')"
   ]
  },
  {
   "cell_type": "code",
   "execution_count": 3,
   "id": "d047a42f-afa0-4cc3-9944-e6eae6dc3da6",
   "metadata": {},
   "outputs": [],
   "source": [
    "DATA_DIR = \"/mnt/c/Users/raveendra sawkar/Documents/IITH Docs/ML EtE Hackathon/NYC Parking Ticket Problem/archive/\"\n",
    "import os"
   ]
  },
  {
   "cell_type": "code",
   "execution_count": 4,
   "id": "d3db3bb7-e874-4984-affd-c67e02b6769e",
   "metadata": {},
   "outputs": [
    {
     "name": "stdout",
     "output_type": "stream",
     "text": [
      "23/02/05 23:36:25 WARN package: Truncated the string representation of a plan since it was too large. This behavior can be adjusted by setting 'spark.sql.debug.maxToStringFields'.\n"
     ]
    },
    {
     "data": {
      "text/html": [
       "<div>\n",
       "<style scoped>\n",
       "    .dataframe tbody tr th:only-of-type {\n",
       "        vertical-align: middle;\n",
       "    }\n",
       "\n",
       "    .dataframe tbody tr th {\n",
       "        vertical-align: top;\n",
       "    }\n",
       "\n",
       "    .dataframe thead th {\n",
       "        text-align: right;\n",
       "    }\n",
       "</style>\n",
       "<table border=\"1\" class=\"dataframe\">\n",
       "  <thead>\n",
       "    <tr style=\"text-align: right;\">\n",
       "      <th></th>\n",
       "      <th>Summons Number</th>\n",
       "      <th>Plate ID</th>\n",
       "      <th>Registration State</th>\n",
       "      <th>Plate Type</th>\n",
       "      <th>Issue Date</th>\n",
       "      <th>Violation Code</th>\n",
       "      <th>Vehicle Body Type</th>\n",
       "      <th>Vehicle Make</th>\n",
       "      <th>Issuing Agency</th>\n",
       "      <th>Street Code1</th>\n",
       "      <th>...</th>\n",
       "      <th>Hydrant Violation</th>\n",
       "      <th>Double Parking Violation</th>\n",
       "      <th>Latitude</th>\n",
       "      <th>Longitude</th>\n",
       "      <th>Community Board</th>\n",
       "      <th>Community Council</th>\n",
       "      <th>Census Tract</th>\n",
       "      <th>BIN</th>\n",
       "      <th>BBL</th>\n",
       "      <th>NTA</th>\n",
       "    </tr>\n",
       "  </thead>\n",
       "  <tbody>\n",
       "    <tr>\n",
       "      <th>0</th>\n",
       "      <td>8002531292</td>\n",
       "      <td>EPC5238</td>\n",
       "      <td>NY</td>\n",
       "      <td>PAS</td>\n",
       "      <td>10/01/2014</td>\n",
       "      <td>21</td>\n",
       "      <td>SUBN</td>\n",
       "      <td>CHEVR</td>\n",
       "      <td>T</td>\n",
       "      <td>20390</td>\n",
       "      <td>...</td>\n",
       "      <td>None</td>\n",
       "      <td>None</td>\n",
       "      <td>None</td>\n",
       "      <td>None</td>\n",
       "      <td>None</td>\n",
       "      <td>None</td>\n",
       "      <td>None</td>\n",
       "      <td>None</td>\n",
       "      <td>None</td>\n",
       "      <td>None</td>\n",
       "    </tr>\n",
       "    <tr>\n",
       "      <th>1</th>\n",
       "      <td>8015318440</td>\n",
       "      <td>5298MD</td>\n",
       "      <td>NY</td>\n",
       "      <td>COM</td>\n",
       "      <td>03/06/2015</td>\n",
       "      <td>14</td>\n",
       "      <td>VAN</td>\n",
       "      <td>FRUEH</td>\n",
       "      <td>T</td>\n",
       "      <td>27790</td>\n",
       "      <td>...</td>\n",
       "      <td>None</td>\n",
       "      <td>None</td>\n",
       "      <td>None</td>\n",
       "      <td>None</td>\n",
       "      <td>None</td>\n",
       "      <td>None</td>\n",
       "      <td>None</td>\n",
       "      <td>None</td>\n",
       "      <td>None</td>\n",
       "      <td>None</td>\n",
       "    </tr>\n",
       "    <tr>\n",
       "      <th>2</th>\n",
       "      <td>7611181981</td>\n",
       "      <td>FYW2775</td>\n",
       "      <td>NY</td>\n",
       "      <td>PAS</td>\n",
       "      <td>07/28/2014</td>\n",
       "      <td>46</td>\n",
       "      <td>SUBN</td>\n",
       "      <td>SUBAR</td>\n",
       "      <td>T</td>\n",
       "      <td>8130</td>\n",
       "      <td>...</td>\n",
       "      <td>None</td>\n",
       "      <td>None</td>\n",
       "      <td>None</td>\n",
       "      <td>None</td>\n",
       "      <td>None</td>\n",
       "      <td>None</td>\n",
       "      <td>None</td>\n",
       "      <td>None</td>\n",
       "      <td>None</td>\n",
       "      <td>None</td>\n",
       "    </tr>\n",
       "    <tr>\n",
       "      <th>3</th>\n",
       "      <td>7445908067</td>\n",
       "      <td>GWE1987</td>\n",
       "      <td>NY</td>\n",
       "      <td>PAS</td>\n",
       "      <td>04/13/2015</td>\n",
       "      <td>19</td>\n",
       "      <td>4DSD</td>\n",
       "      <td>LEXUS</td>\n",
       "      <td>T</td>\n",
       "      <td>59990</td>\n",
       "      <td>...</td>\n",
       "      <td>None</td>\n",
       "      <td>None</td>\n",
       "      <td>None</td>\n",
       "      <td>None</td>\n",
       "      <td>None</td>\n",
       "      <td>None</td>\n",
       "      <td>None</td>\n",
       "      <td>None</td>\n",
       "      <td>None</td>\n",
       "      <td>None</td>\n",
       "    </tr>\n",
       "    <tr>\n",
       "      <th>4</th>\n",
       "      <td>7037692864</td>\n",
       "      <td>T671196C</td>\n",
       "      <td>NY</td>\n",
       "      <td>PAS</td>\n",
       "      <td>05/19/2015</td>\n",
       "      <td>19</td>\n",
       "      <td>4DSD</td>\n",
       "      <td>CHRYS</td>\n",
       "      <td>T</td>\n",
       "      <td>36090</td>\n",
       "      <td>...</td>\n",
       "      <td>None</td>\n",
       "      <td>None</td>\n",
       "      <td>None</td>\n",
       "      <td>None</td>\n",
       "      <td>None</td>\n",
       "      <td>None</td>\n",
       "      <td>None</td>\n",
       "      <td>None</td>\n",
       "      <td>None</td>\n",
       "      <td>None</td>\n",
       "    </tr>\n",
       "  </tbody>\n",
       "</table>\n",
       "<p>5 rows × 51 columns</p>\n",
       "</div>"
      ],
      "text/plain": [
       "  Summons Number  Plate ID Registration State Plate Type  Issue Date  \\\n",
       "0     8002531292   EPC5238                 NY        PAS  10/01/2014   \n",
       "1     8015318440    5298MD                 NY        COM  03/06/2015   \n",
       "2     7611181981   FYW2775                 NY        PAS  07/28/2014   \n",
       "3     7445908067   GWE1987                 NY        PAS  04/13/2015   \n",
       "4     7037692864  T671196C                 NY        PAS  05/19/2015   \n",
       "\n",
       "  Violation Code Vehicle Body Type Vehicle Make Issuing Agency Street Code1  \\\n",
       "0             21              SUBN        CHEVR              T        20390   \n",
       "1             14               VAN        FRUEH              T        27790   \n",
       "2             46              SUBN        SUBAR              T         8130   \n",
       "3             19              4DSD        LEXUS              T        59990   \n",
       "4             19              4DSD        CHRYS              T        36090   \n",
       "\n",
       "   ... Hydrant Violation Double Parking Violation Latitude Longitude  \\\n",
       "0  ...              None                     None     None      None   \n",
       "1  ...              None                     None     None      None   \n",
       "2  ...              None                     None     None      None   \n",
       "3  ...              None                     None     None      None   \n",
       "4  ...              None                     None     None      None   \n",
       "\n",
       "  Community Board Community Council  Census Tract   BIN   BBL   NTA  \n",
       "0            None               None         None  None  None  None  \n",
       "1            None               None         None  None  None  None  \n",
       "2            None               None         None  None  None  None  \n",
       "3            None               None         None  None  None  None  \n",
       "4            None               None         None  None  None  None  \n",
       "\n",
       "[5 rows x 51 columns]"
      ]
     },
     "execution_count": 4,
     "metadata": {},
     "output_type": "execute_result"
    }
   ],
   "source": [
    "original_df = spark.read.option(\"header\",True).csv(os.path.join(DATA_DIR, 'Parking_Violations_Issued_-_Fiscal_Year_2015.csv'))\n",
    "original_df.limit(5).toPandas().head()"
   ]
  },
  {
   "cell_type": "code",
   "execution_count": 5,
   "id": "587a179d-e8bf-4652-83bb-b5be22510160",
   "metadata": {},
   "outputs": [],
   "source": [
    "subdf = original_df.limit(10000)"
   ]
  },
  {
   "cell_type": "code",
   "execution_count": 6,
   "id": "51e69aa5-8df9-4c0e-8995-d7d90f37721f",
   "metadata": {},
   "outputs": [],
   "source": [
    "pddf = subdf.toPandas()"
   ]
  },
  {
   "cell_type": "code",
   "execution_count": 7,
   "id": "942d4221-bf1a-4963-adbd-515b90750c53",
   "metadata": {},
   "outputs": [],
   "source": [
    "pddf.columns = pddf.columns.str.strip().str.replace(' ', '_')"
   ]
  },
  {
   "cell_type": "code",
   "execution_count": 8,
   "id": "a8b45e5e-b969-4fbe-8dd0-d1b026d95bd2",
   "metadata": {},
   "outputs": [],
   "source": [
    "#Replace junk values with NaN (0,-,etc)\n",
    "pddf = pddf.replace('0', np.nan)\n",
    "pddf = pddf.replace('-', np.nan)\n",
    "pddf = pddf.fillna(value=np.nan)\n",
    "pddf['Registration_State'] = pddf['Registration_State'].replace('99', np.nan)\n",
    "pddf['Plate_Type'] = pddf['Plate_Type'].replace('99', np.nan)\n",
    "\n",
    "#type cast date cols to datetime format and replace vals with incorrect date\n",
    "pddf['Issue_Date'] = pd.to_datetime(pddf['Issue_Date'])\n",
    "pddf = pddf[ (pddf['Issue_Date'] >= '08/01/2014') & (pddf['Issue_Date'] <= '07/31/2015') ]\n",
    "pddf['Vehicle_Year'] = pddf['Vehicle_Year'].astype(str).apply(lambda x: x if x<='2015' else np.nan)"
   ]
  },
  {
   "cell_type": "code",
   "execution_count": 9,
   "id": "1f73efbd-13d3-4fe6-9b02-4e05a2e3bd58",
   "metadata": {},
   "outputs": [
    {
     "data": {
      "text/plain": [
       "Summons_Number                          0\n",
       "Plate_ID                                0\n",
       "Registration_State                     22\n",
       "Plate_Type                              0\n",
       "Issue_Date                              0\n",
       "Violation_Code                          0\n",
       "Vehicle_Body_Type                       9\n",
       "Vehicle_Make                           29\n",
       "Issuing_Agency                          0\n",
       "Street_Code1                          444\n",
       "Street_Code2                         1404\n",
       "Street_Code3                         1415\n",
       "Vehicle_Expiration_Date                 0\n",
       "Violation_Location                      4\n",
       "Violation_Precinct                      4\n",
       "Issuer_Precinct                       196\n",
       "Issuer_Code                            19\n",
       "Issuer_Command                          0\n",
       "Issuer_Squad                            0\n",
       "Violation_Time                          1\n",
       "Time_First_Observed                  7823\n",
       "Violation_County                       56\n",
       "Violation_In_Front_Of_Or_Opposite      67\n",
       "House_Number                          162\n",
       "Street_Name                             3\n",
       "Intersecting_Street                  7603\n",
       "Date_First_Observed                     0\n",
       "Law_Section                             0\n",
       "Sub_Division                            0\n",
       "Violation_Legal_Code                 9003\n",
       "Days_Parking_In_Effect                982\n",
       "From_Hours_In_Effect                 3181\n",
       "To_Hours_In_Effect                   3181\n",
       "Vehicle_Color                          27\n",
       "Unregistered_Vehicle?                9003\n",
       "Vehicle_Year                         2402\n",
       "Meter_Number                         8145\n",
       "Feet_From_Curb                       8732\n",
       "Violation_Post_Code                   943\n",
       "Violation_Description                 944\n",
       "No_Standing_or_Stopping_Violation    9003\n",
       "Hydrant_Violation                    9003\n",
       "Double_Parking_Violation             9003\n",
       "Latitude                             9003\n",
       "Longitude                            9003\n",
       "Community_Board                      9003\n",
       "Community_Council                    9003\n",
       "Census_Tract                         9003\n",
       "BIN                                  9003\n",
       "BBL                                  9003\n",
       "NTA                                  9003\n",
       "dtype: int64"
      ]
     },
     "execution_count": 9,
     "metadata": {},
     "output_type": "execute_result"
    }
   ],
   "source": [
    "pddf.isnull().sum()"
   ]
  },
  {
   "cell_type": "code",
   "execution_count": 10,
   "id": "5f9c96a1-eebe-4846-8ce9-dfb4d7a2cce5",
   "metadata": {},
   "outputs": [
    {
     "data": {
      "text/plain": [
       "<bound method DataFrame.info of      Summons_Number  Plate_ID Registration_State Plate_Type Issue_Date  \\\n",
       "0        8002531292   EPC5238                 NY        PAS 2014-10-01   \n",
       "1        8015318440    5298MD                 NY        COM 2015-03-06   \n",
       "3        7445908067   GWE1987                 NY        PAS 2015-04-13   \n",
       "4        7037692864  T671196C                 NY        PAS 2015-05-19   \n",
       "5        7704791394   JJF6834                 PA        PAS 2014-11-20   \n",
       "...             ...       ...                ...        ...        ...   \n",
       "9994     7969518205    L79DVL                 NJ        PAS 2015-06-09   \n",
       "9995     7907420775    XBSK23                 NJ        PAS 2015-03-09   \n",
       "9996     8004422019   24861JY                 NY        COM 2014-10-24   \n",
       "9998     7059056555   42287MA                 NY        COM 2015-06-08   \n",
       "9999     8018425530    XBPP36                 NJ        PAS 2015-04-24   \n",
       "\n",
       "     Violation_Code Vehicle_Body_Type Vehicle_Make Issuing_Agency  \\\n",
       "0                21              SUBN        CHEVR              T   \n",
       "1                14               VAN        FRUEH              T   \n",
       "3                19              4DSD        LEXUS              T   \n",
       "4                19              4DSD        CHRYS              T   \n",
       "5                21              4DSD        NISSA              T   \n",
       "...             ...               ...          ...            ...   \n",
       "9994             16              BOAT        TOYOT              T   \n",
       "9995             14              DELV        FRUEH              T   \n",
       "9996             37               VAN         FORD              T   \n",
       "9998             17               VAN         JEEP              T   \n",
       "9999             19               VAN         FORD              T   \n",
       "\n",
       "     Street_Code1  ... Hydrant_Violation Double_Parking_Violation Latitude  \\\n",
       "0           20390  ...               NaN                      NaN      NaN   \n",
       "1           27790  ...               NaN                      NaN      NaN   \n",
       "3           59990  ...               NaN                      NaN      NaN   \n",
       "4           36090  ...               NaN                      NaN      NaN   \n",
       "5           74230  ...               NaN                      NaN      NaN   \n",
       "...           ...  ...               ...                      ...      ...   \n",
       "9994        77150  ...               NaN                      NaN      NaN   \n",
       "9995        11010  ...               NaN                      NaN      NaN   \n",
       "9996        45590  ...               NaN                      NaN      NaN   \n",
       "9998        34550  ...               NaN                      NaN      NaN   \n",
       "9999        17270  ...               NaN                      NaN      NaN   \n",
       "\n",
       "     Longitude Community_Board Community_Council Census_Tract BIN BBL NTA  \n",
       "0          NaN             NaN               NaN          NaN NaN NaN NaN  \n",
       "1          NaN             NaN               NaN          NaN NaN NaN NaN  \n",
       "3          NaN             NaN               NaN          NaN NaN NaN NaN  \n",
       "4          NaN             NaN               NaN          NaN NaN NaN NaN  \n",
       "5          NaN             NaN               NaN          NaN NaN NaN NaN  \n",
       "...        ...             ...               ...          ...  ..  ..  ..  \n",
       "9994       NaN             NaN               NaN          NaN NaN NaN NaN  \n",
       "9995       NaN             NaN               NaN          NaN NaN NaN NaN  \n",
       "9996       NaN             NaN               NaN          NaN NaN NaN NaN  \n",
       "9998       NaN             NaN               NaN          NaN NaN NaN NaN  \n",
       "9999       NaN             NaN               NaN          NaN NaN NaN NaN  \n",
       "\n",
       "[9003 rows x 51 columns]>"
      ]
     },
     "execution_count": 10,
     "metadata": {},
     "output_type": "execute_result"
    }
   ],
   "source": [
    "#Learn more about the dataset\n",
    "pddf.info"
   ]
  },
  {
   "cell_type": "code",
   "execution_count": 12,
   "id": "e4edc7e1-f324-4ad7-b1e1-246a690106a8",
   "metadata": {},
   "outputs": [],
   "source": [
    "#Prepare to drop irrelevant/duplicate columns\n",
    "pddf['Plate_ID'] = np.nan\n",
    "pddf['Issue_Date'] = np.nan\n",
    "pddf['Street_Code2'] = np.nan\n",
    "pddf['Street_Code3'] = np.nan\n",
    "pddf['Street_Name'] = np.nan\n",
    "pddf['Violation_Precinct'] = np.nan\n",
    "pddf['Issuer_Code'] = np.nan\n",
    "pddf['Issuer_Squad'] = np.nan\n",
    "pddf['House_Number'] = np.nan\n",
    "pddf['Vehicle Color'] = np.nan\n",
    "pddf['Violation_Post_Code'] = np.nan\n",
    "pddf['Violation_Description'] = np.nan\n",
    "pddf['Vehicle_Expiration_Date'] = np.nan\n",
    "pddf['Date_First_Observed'] = np.nan\n",
    "pddf['Vehicle_Color'] = np.nan"
   ]
  },
  {
   "cell_type": "code",
   "execution_count": 13,
   "id": "53d2a937-a78e-45a1-86ac-6eef3513bce5",
   "metadata": {},
   "outputs": [],
   "source": [
    "#Drop columns with 75% or more NaN values\n",
    "perc = 75.0\n",
    "min_count =  int(((100-perc)/100)*pddf.shape[0] + 1)\n",
    "pddf = pddf.dropna( axis=1, thresh=min_count)"
   ]
  },
  {
   "cell_type": "code",
   "execution_count": 14,
   "id": "d3a90870-b93b-44e4-9c20-18be38c63c9f",
   "metadata": {},
   "outputs": [
    {
     "name": "stderr",
     "output_type": "stream",
     "text": [
      "/tmp/ipykernel_23722/1866885660.py:1: SettingWithCopyWarning: \n",
      "A value is trying to be set on a copy of a slice from a DataFrame\n",
      "\n",
      "See the caveats in the documentation: https://pandas.pydata.org/pandas-docs/stable/user_guide/indexing.html#returning-a-view-versus-a-copy\n",
      "  pddf.drop_duplicates(subset = ['Summons_Number'], inplace = True)\n"
     ]
    }
   ],
   "source": [
    "pddf.drop_duplicates(subset = ['Summons_Number'], inplace = True)"
   ]
  },
  {
   "cell_type": "code",
   "execution_count": 15,
   "id": "014da18c-8d2e-4fbd-8562-df992e7d6110",
   "metadata": {},
   "outputs": [],
   "source": [
    "pddf = pddf[pddf['Violation_Location'].notna()]"
   ]
  },
  {
   "cell_type": "code",
   "execution_count": 16,
   "id": "15c0c307-4fed-4471-a248-39ee8239eb34",
   "metadata": {},
   "outputs": [],
   "source": [
    "maskA_replace = 'A'\n",
    "maskP_replace = 'P'\n",
    "maskA = pddf['Violation_Time'].str.contains(maskA_replace)\n",
    "maskP = pddf['Violation_Time'].str.contains(maskP_replace)\n",
    "pddf.loc[maskA, 'Violation_Time'] = maskA_replace\n",
    "pddf.loc[maskP, 'Violation_Time'] = maskP_replace"
   ]
  },
  {
   "cell_type": "code",
   "execution_count": 17,
   "id": "8328602f-92e7-4627-8200-f49851e17ea8",
   "metadata": {},
   "outputs": [],
   "source": [
    "maskA_replace = 'A'\n",
    "maskP_replace = 'P'\n",
    "maskA = pddf['From_Hours_In_Effect'].str[-1]==maskA_replace\n",
    "maskP = pddf['From_Hours_In_Effect'].str[-1]==maskP_replace\n",
    "pddf.loc[maskA, 'From_Hours_In_Effect'] = maskA_replace\n",
    "pddf.loc[maskP, 'From_Hours_In_Effect'] = maskP_replace\n",
    "maskA = pddf['To_Hours_In_Effect'].str[-1]==maskA_replace\n",
    "maskP = pddf['To_Hours_In_Effect'].str[-1]==maskP_replace\n",
    "pddf.loc[maskA, 'To_Hours_In_Effect'] = maskA_replace\n",
    "pddf.loc[maskP, 'To_Hours_In_Effect'] = maskP_replace"
   ]
  },
  {
   "cell_type": "code",
   "execution_count": 18,
   "id": "1333b144-4879-4304-bde2-c4db72ef2f6a",
   "metadata": {},
   "outputs": [],
   "source": [
    "counts = pddf['Days_Parking_In_Effect'].str.count('Y')\n",
    "np.where(counts==0, 7, counts)\n",
    "pddf['Days_Parking_In_Effect'] = counts"
   ]
  },
  {
   "cell_type": "code",
   "execution_count": 19,
   "id": "170f2b96-d504-4073-bcea-31bc0506ebc6",
   "metadata": {},
   "outputs": [],
   "source": [
    "remap_county_dict = {\n",
    "    'K' : 'Brooklyn',\n",
    "    'Q' : 'Queens',\n",
    "    'NY': 'Manhattan',\n",
    "    'QN': 'Queens',\n",
    "    'BK': 'Brooklyn',\n",
    "    'R' : 'Staten Island',\n",
    "    'BX': 'Bronx',\n",
    "    'ST': 'Staten Island',\n",
    "    'MN': 'Manhattan',\n",
    "    'KINGS': 'Brooklyn',\n",
    "    'QNS': 'Queens',\n",
    "    'BRONX': 'Bronx'\n",
    "}\n",
    "pddf['Violation_County'] = pddf['Violation_County'].map(remap_county_dict)"
   ]
  },
  {
   "cell_type": "code",
   "execution_count": 20,
   "id": "f00a7449-c88b-4c9a-88b4-1fa19a015626",
   "metadata": {},
   "outputs": [],
   "source": [
    "def imputation(col_name):\n",
    "    pddf[col_name].fillna(pddf[col_name].mode()[0], inplace=True)"
   ]
  },
  {
   "cell_type": "code",
   "execution_count": 21,
   "id": "fc0af95b-d4dd-4214-bcc3-a8c007bfccad",
   "metadata": {},
   "outputs": [],
   "source": [
    "#Limit no. of categories for columns and put extra values into 'other' category\n",
    "def drop_categories(col_name):\n",
    "    value_counts = pddf[col_name].value_counts()\n",
    "    threshold = value_counts.sum() * 0.05\n",
    "    to_merge = value_counts[value_counts <= threshold].index.tolist()\n",
    "    pddf[col_name] = pddf[col_name].replace(to_merge, 'OTHER')"
   ]
  },
  {
   "cell_type": "code",
   "execution_count": 22,
   "id": "eafcb9a3-d6f8-439a-a365-04b1a5edeffd",
   "metadata": {},
   "outputs": [],
   "source": [
    "#Assign values to columns and get dummies\n",
    "def separate_cols(df_temp, col_name):\n",
    "    col = df_temp[col_name].unique()\n",
    "    i=0\n",
    "    coldict = {}\n",
    "    for c in col:\n",
    "        coldict[c] = i\n",
    "        i=i+1\n",
    "    df_temp.replace({col_name:coldict},inplace=True)\n",
    "    df_temp = pd.get_dummies(df_temp, columns=[col_name])\n",
    "    return df_temp"
   ]
  },
  {
   "cell_type": "code",
   "execution_count": 23,
   "id": "b4934312-aae0-4f4c-aaec-b480a77f7512",
   "metadata": {},
   "outputs": [],
   "source": [
    "for col in pddf.columns:\n",
    "    if pddf[col].isnull().sum() > 0:\n",
    "        imputation(col)"
   ]
  },
  {
   "cell_type": "code",
   "execution_count": 24,
   "id": "7a6010e6-29a5-414c-be93-e01ad429eb72",
   "metadata": {},
   "outputs": [],
   "source": [
    "drop_categories('Plate_Type')\n",
    "drop_categories('Violation_Code')\n",
    "drop_categories('Vehicle_Body_Type')\n",
    "drop_categories('Vehicle_Make')\n",
    "drop_categories('Sub_Division')\n",
    "drop_categories('Street_Code1')\n",
    "drop_categories('Vehicle_Year')\n",
    "drop_categories('Registration_State')\n",
    "drop_categories('Issuer_Command')"
   ]
  },
  {
   "cell_type": "code",
   "execution_count": 25,
   "id": "9ab3555a-f047-4b36-af39-6ebc03712806",
   "metadata": {
    "tags": []
   },
   "outputs": [
    {
     "data": {
      "text/plain": [
       "Summons_Number                       0\n",
       "Registration_State                   0\n",
       "Plate_Type                           0\n",
       "Violation_Code                       0\n",
       "Vehicle_Body_Type                    0\n",
       "Vehicle_Make                         0\n",
       "Issuing_Agency                       0\n",
       "Street_Code1                         0\n",
       "Violation_Location                   0\n",
       "Issuer_Precinct                      0\n",
       "Issuer_Command                       0\n",
       "Violation_Time                       0\n",
       "Violation_County                     0\n",
       "Violation_In_Front_Of_Or_Opposite    0\n",
       "Law_Section                          0\n",
       "Sub_Division                         0\n",
       "Days_Parking_In_Effect               0\n",
       "From_Hours_In_Effect                 0\n",
       "To_Hours_In_Effect                   0\n",
       "Vehicle_Year                         0\n",
       "dtype: int64"
      ]
     },
     "execution_count": 25,
     "metadata": {},
     "output_type": "execute_result"
    }
   ],
   "source": [
    "pddf.isnull().sum()"
   ]
  },
  {
   "cell_type": "code",
   "execution_count": 26,
   "id": "cf7dfb06-9bc3-4c13-bf11-1ca1c2bf146d",
   "metadata": {},
   "outputs": [],
   "source": [
    "for col in pddf.columns:\n",
    "    if col != 'Summons_Number' and col != 'Violation_Location':\n",
    "        pddf = separate_cols(pddf, col)"
   ]
  },
  {
   "cell_type": "code",
   "execution_count": 27,
   "id": "849de34a-87d4-4a17-ac13-5f5cf9a4ffba",
   "metadata": {},
   "outputs": [
    {
     "data": {
      "text/plain": [
       "(8334, 204)"
      ]
     },
     "execution_count": 27,
     "metadata": {},
     "output_type": "execute_result"
    }
   ],
   "source": [
    "pddf.shape"
   ]
  },
  {
   "cell_type": "code",
   "execution_count": 28,
   "id": "b17da918-0525-4b41-880d-387f60cbde00",
   "metadata": {},
   "outputs": [
    {
     "data": {
      "text/plain": [
       "0       0007\n",
       "1       0025\n",
       "3        102\n",
       "4       0028\n",
       "5       0067\n",
       "        ... \n",
       "9994    0047\n",
       "9995    0018\n",
       "9996    0019\n",
       "9998    0014\n",
       "9999    0009\n",
       "Name: Violation_Location, Length: 8334, dtype: object"
      ]
     },
     "execution_count": 28,
     "metadata": {},
     "output_type": "execute_result"
    }
   ],
   "source": [
    "pddf['Violation_Location']"
   ]
  },
  {
   "cell_type": "code",
   "execution_count": 29,
   "id": "5e509e81-25fb-4533-bab4-65faf0392cf0",
   "metadata": {},
   "outputs": [
    {
     "data": {
      "text/plain": [
       "((6667, 203), (6667,), (6667, 203))"
      ]
     },
     "execution_count": 29,
     "metadata": {},
     "output_type": "execute_result"
    }
   ],
   "source": [
    "#Split data into train and test sets\n",
    "train, test = train_test_split(pddf, test_size=0.20, random_state=1)\n",
    "X_train = train.drop(\"Violation_Location\",axis=1)\n",
    "X_test = train.drop(\"Violation_Location\",axis=1)\n",
    "y_train = train[\"Violation_Location\"]\n",
    "y_test = test[\"Violation_Location\"]\n",
    "X_train.shape, y_train.shape, X_test.shape"
   ]
  },
  {
   "cell_type": "code",
   "execution_count": 38,
   "id": "a5caa89c-8b7f-46a4-aa5a-50c0fafa33f3",
   "metadata": {},
   "outputs": [],
   "source": [
    "#Train with Random Forest\n",
    "random_forest = RandomForestClassifier(n_estimators=150, criterion='gini', max_depth=12)\n",
    "\n",
    "random_forest.fit(X_train, y_train)\n",
    "\n",
    "y_pred = random_forest.predict(X_test)\n",
    "\n",
    "accuracy = random_forest.score(X_train, y_train)"
   ]
  },
  {
   "cell_type": "code",
   "execution_count": 39,
   "id": "77d0134c-79ef-425b-8647-e81867296eac",
   "metadata": {},
   "outputs": [
    {
     "data": {
      "text/plain": [
       "0.9845507724613769"
      ]
     },
     "execution_count": 39,
     "metadata": {},
     "output_type": "execute_result"
    }
   ],
   "source": [
    "accuracy"
   ]
  },
  {
   "cell_type": "code",
   "execution_count": null,
   "id": "3e558c3d-035f-4450-992a-33da081fd566",
   "metadata": {},
   "outputs": [],
   "source": []
  }
 ],
 "metadata": {
  "kernelspec": {
   "display_name": "Python 3 (ipykernel)",
   "language": "python",
   "name": "python3"
  },
  "language_info": {
   "codemirror_mode": {
    "name": "ipython",
    "version": 3
   },
   "file_extension": ".py",
   "mimetype": "text/x-python",
   "name": "python",
   "nbconvert_exporter": "python",
   "pygments_lexer": "ipython3",
   "version": "3.8.16"
  }
 },
 "nbformat": 4,
 "nbformat_minor": 5
}
